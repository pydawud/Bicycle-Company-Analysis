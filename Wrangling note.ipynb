{
 "cells": [
  {
   "cell_type": "markdown",
   "id": "579affa1",
   "metadata": {},
   "source": [
    "# Part II: Data Wrangling"
   ]
  },
  {
   "cell_type": "markdown",
   "id": "ea0f41f4",
   "metadata": {},
   "source": [
    "## Issues\n",
    "`Transactions Sheet`\n",
    "1. product_first_sold_date the title is misleading\n",
    "2. missing values in online_order, brand, product_line, product_sales, product_size, list_price, standard_cost and product_first_sold_date\n",
    "3. online_order value should not be a float, it should be int with 0/1, or Boolean with True/False\n",
    "\n",
    "`NewCustomerList Sheet`\n",
    "1. Four columns doesnt have name description\n",
    "2. past_3_years_bike_related_purchases column name is too long\n",
    "3. deceased_indicator and owns_car there values should be consistent\n",
    "4. missing values in last_name, job_title, DOB, and job_industry_category.\n",
    "5. Gender has invalid value 'U'\n",
    "6. deceased indicator is unique, therefore not important, it should be discarded\n",
    "7. country is unique, should be discarded.\n",
    "\n",
    "`CustomerDemographic sheet`\n",
    "1. missing values in six columns (last_name, DOB, job_title, job_industry_category, default, tenure)\n",
    "2. inconsistent values in gender column\n",
    "3. the Y/N in deceased_indicator column should be Yes/No\n",
    "4. the default column should be discarded\n",
    "\n",
    "\n",
    "`CustomerAddress sheet`\n",
    "1. consistency issue in state column New South Wales and Victoria should be replaced by NSW and VIC respectively\n",
    "2. Counrty column is unique, it should be discarded\n"
   ]
  },
  {
   "cell_type": "code",
   "execution_count": 1,
   "id": "417cd5e3",
   "metadata": {},
   "outputs": [],
   "source": [
    "import pandas as pd\n",
    "import numpy as np\n",
    "import matplotlib.pyplot as plt\n",
    "import seaborn as sns\n",
    "%matplotlib inline"
   ]
  },
  {
   "cell_type": "code",
   "execution_count": 2,
   "id": "02b22d93",
   "metadata": {},
   "outputs": [
    {
     "data": {
      "text/plain": [
       "['Title Sheet',\n",
       " 'Transactions',\n",
       " 'NewCustomerList',\n",
       " 'CustomerDemographic',\n",
       " 'CustomerAddress']"
      ]
     },
     "execution_count": 2,
     "metadata": {},
     "output_type": "execute_result"
    }
   ],
   "source": [
    "file = pd.ExcelFile('KPMG_bicycle.xlsx')\n",
    "file.sheet_names"
   ]
  },
  {
   "cell_type": "code",
   "execution_count": 3,
   "id": "16e5c1f8",
   "metadata": {},
   "outputs": [
    {
     "data": {
      "text/html": [
       "<div>\n",
       "<style scoped>\n",
       "    .dataframe tbody tr th:only-of-type {\n",
       "        vertical-align: middle;\n",
       "    }\n",
       "\n",
       "    .dataframe tbody tr th {\n",
       "        vertical-align: top;\n",
       "    }\n",
       "\n",
       "    .dataframe thead th {\n",
       "        text-align: right;\n",
       "    }\n",
       "</style>\n",
       "<table border=\"1\" class=\"dataframe\">\n",
       "  <thead>\n",
       "    <tr style=\"text-align: right;\">\n",
       "      <th></th>\n",
       "      <th>transaction_id</th>\n",
       "      <th>product_id</th>\n",
       "      <th>customer_id</th>\n",
       "      <th>transaction_date</th>\n",
       "      <th>online_order</th>\n",
       "      <th>order_status</th>\n",
       "      <th>brand</th>\n",
       "      <th>product_line</th>\n",
       "      <th>product_class</th>\n",
       "      <th>product_size</th>\n",
       "      <th>list_price</th>\n",
       "      <th>standard_cost</th>\n",
       "      <th>product_first_sold_date</th>\n",
       "    </tr>\n",
       "  </thead>\n",
       "  <tbody>\n",
       "    <tr>\n",
       "      <th>0</th>\n",
       "      <td>1</td>\n",
       "      <td>2</td>\n",
       "      <td>2950</td>\n",
       "      <td>2017-02-25</td>\n",
       "      <td>0.0</td>\n",
       "      <td>Approved</td>\n",
       "      <td>Solex</td>\n",
       "      <td>Standard</td>\n",
       "      <td>medium</td>\n",
       "      <td>medium</td>\n",
       "      <td>71.49</td>\n",
       "      <td>53.62</td>\n",
       "      <td>41245.0</td>\n",
       "    </tr>\n",
       "    <tr>\n",
       "      <th>1</th>\n",
       "      <td>2</td>\n",
       "      <td>3</td>\n",
       "      <td>3120</td>\n",
       "      <td>2017-05-21</td>\n",
       "      <td>1.0</td>\n",
       "      <td>Approved</td>\n",
       "      <td>Trek Bicycles</td>\n",
       "      <td>Standard</td>\n",
       "      <td>medium</td>\n",
       "      <td>large</td>\n",
       "      <td>2091.47</td>\n",
       "      <td>388.92</td>\n",
       "      <td>41701.0</td>\n",
       "    </tr>\n",
       "    <tr>\n",
       "      <th>2</th>\n",
       "      <td>3</td>\n",
       "      <td>37</td>\n",
       "      <td>402</td>\n",
       "      <td>2017-10-16</td>\n",
       "      <td>0.0</td>\n",
       "      <td>Approved</td>\n",
       "      <td>OHM Cycles</td>\n",
       "      <td>Standard</td>\n",
       "      <td>low</td>\n",
       "      <td>medium</td>\n",
       "      <td>1793.43</td>\n",
       "      <td>248.82</td>\n",
       "      <td>36361.0</td>\n",
       "    </tr>\n",
       "    <tr>\n",
       "      <th>3</th>\n",
       "      <td>4</td>\n",
       "      <td>88</td>\n",
       "      <td>3135</td>\n",
       "      <td>2017-08-31</td>\n",
       "      <td>0.0</td>\n",
       "      <td>Approved</td>\n",
       "      <td>Norco Bicycles</td>\n",
       "      <td>Standard</td>\n",
       "      <td>medium</td>\n",
       "      <td>medium</td>\n",
       "      <td>1198.46</td>\n",
       "      <td>381.10</td>\n",
       "      <td>36145.0</td>\n",
       "    </tr>\n",
       "    <tr>\n",
       "      <th>4</th>\n",
       "      <td>5</td>\n",
       "      <td>78</td>\n",
       "      <td>787</td>\n",
       "      <td>2017-10-01</td>\n",
       "      <td>1.0</td>\n",
       "      <td>Approved</td>\n",
       "      <td>Giant Bicycles</td>\n",
       "      <td>Standard</td>\n",
       "      <td>medium</td>\n",
       "      <td>large</td>\n",
       "      <td>1765.30</td>\n",
       "      <td>709.48</td>\n",
       "      <td>42226.0</td>\n",
       "    </tr>\n",
       "  </tbody>\n",
       "</table>\n",
       "</div>"
      ],
      "text/plain": [
       "   transaction_id  product_id  customer_id transaction_date  online_order  \\\n",
       "0               1           2         2950       2017-02-25           0.0   \n",
       "1               2           3         3120       2017-05-21           1.0   \n",
       "2               3          37          402       2017-10-16           0.0   \n",
       "3               4          88         3135       2017-08-31           0.0   \n",
       "4               5          78          787       2017-10-01           1.0   \n",
       "\n",
       "  order_status           brand product_line product_class product_size  \\\n",
       "0     Approved           Solex     Standard        medium       medium   \n",
       "1     Approved   Trek Bicycles     Standard        medium        large   \n",
       "2     Approved      OHM Cycles     Standard           low       medium   \n",
       "3     Approved  Norco Bicycles     Standard        medium       medium   \n",
       "4     Approved  Giant Bicycles     Standard        medium        large   \n",
       "\n",
       "   list_price  standard_cost  product_first_sold_date  \n",
       "0       71.49          53.62                  41245.0  \n",
       "1     2091.47         388.92                  41701.0  \n",
       "2     1793.43         248.82                  36361.0  \n",
       "3     1198.46         381.10                  36145.0  \n",
       "4     1765.30         709.48                  42226.0  "
      ]
     },
     "execution_count": 3,
     "metadata": {},
     "output_type": "execute_result"
    }
   ],
   "source": [
    "df_tran = pd.read_excel(file, 'Transactions', header=1)\n",
    "df_tran.head()"
   ]
  },
  {
   "cell_type": "markdown",
   "id": "1703d38b",
   "metadata": {},
   "source": [
    "# `Transaction Table`"
   ]
  },
  {
   "cell_type": "code",
   "execution_count": 34,
   "id": "d959d6b6",
   "metadata": {},
   "outputs": [],
   "source": [
    "df1 = df_tran.copy()"
   ]
  },
  {
   "cell_type": "markdown",
   "id": "5cf0cd84",
   "metadata": {},
   "source": [
    "## Issue #1: product_first_sold_date the title is misleading"
   ]
  },
  {
   "cell_type": "markdown",
   "id": "91242738",
   "metadata": {},
   "source": [
    "### Define: \n",
    "use `.rename` method to correct the column name\n",
    "### Code"
   ]
  },
  {
   "cell_type": "code",
   "execution_count": 35,
   "id": "06157a9d",
   "metadata": {},
   "outputs": [],
   "source": [
    "df1.rename(columns = {'product_first_sold_date': 'product_first_sold'}, inplace=True)"
   ]
  },
  {
   "cell_type": "markdown",
   "id": "27ff4896",
   "metadata": {},
   "source": [
    "### Test"
   ]
  },
  {
   "cell_type": "code",
   "execution_count": 36,
   "id": "540e56f3",
   "metadata": {},
   "outputs": [],
   "source": [
    "assert 'product_first_sold_date' not in df1.columns"
   ]
  },
  {
   "cell_type": "markdown",
   "id": "702aab69",
   "metadata": {},
   "source": [
    "## Issue #2: missing values in online_order, brand, product_line, product_sales, product_size, list_price, standard_cost and product_first_sold_date"
   ]
  },
  {
   "cell_type": "code",
   "execution_count": 37,
   "id": "4126f928",
   "metadata": {},
   "outputs": [
    {
     "data": {
      "text/plain": [
       "online_order          360\n",
       "brand                 197\n",
       "product_line          197\n",
       "product_class         197\n",
       "product_size          197\n",
       "standard_cost         197\n",
       "product_first_sold    197\n",
       "dtype: int64"
      ]
     },
     "execution_count": 37,
     "metadata": {},
     "output_type": "execute_result"
    }
   ],
   "source": [
    "nulls = df1.isnull().sum()\n",
    "nulls[nulls>0]"
   ]
  },
  {
   "cell_type": "code",
   "execution_count": 38,
   "id": "60465456",
   "metadata": {},
   "outputs": [
    {
     "data": {
      "text/plain": [
       "online_order          1.800\n",
       "brand                 0.985\n",
       "product_line          0.985\n",
       "product_class         0.985\n",
       "product_size          0.985\n",
       "standard_cost         0.985\n",
       "product_first_sold    0.985\n",
       "dtype: float64"
      ]
     },
     "execution_count": 38,
     "metadata": {},
     "output_type": "execute_result"
    }
   ],
   "source": [
    "nulls[nulls>0]/df1.shape[0]*100"
   ]
  },
  {
   "cell_type": "code",
   "execution_count": 39,
   "id": "6c975241",
   "metadata": {},
   "outputs": [
    {
     "data": {
      "text/html": [
       "<div>\n",
       "<style scoped>\n",
       "    .dataframe tbody tr th:only-of-type {\n",
       "        vertical-align: middle;\n",
       "    }\n",
       "\n",
       "    .dataframe tbody tr th {\n",
       "        vertical-align: top;\n",
       "    }\n",
       "\n",
       "    .dataframe thead th {\n",
       "        text-align: right;\n",
       "    }\n",
       "</style>\n",
       "<table border=\"1\" class=\"dataframe\">\n",
       "  <thead>\n",
       "    <tr style=\"text-align: right;\">\n",
       "      <th></th>\n",
       "      <th>transaction_id</th>\n",
       "      <th>product_id</th>\n",
       "      <th>customer_id</th>\n",
       "      <th>transaction_date</th>\n",
       "      <th>online_order</th>\n",
       "      <th>order_status</th>\n",
       "      <th>brand</th>\n",
       "      <th>product_line</th>\n",
       "      <th>product_class</th>\n",
       "      <th>product_size</th>\n",
       "      <th>list_price</th>\n",
       "      <th>standard_cost</th>\n",
       "      <th>product_first_sold</th>\n",
       "    </tr>\n",
       "  </thead>\n",
       "  <tbody>\n",
       "    <tr>\n",
       "      <th>136</th>\n",
       "      <td>137</td>\n",
       "      <td>0</td>\n",
       "      <td>431</td>\n",
       "      <td>2017-09-23</td>\n",
       "      <td>0.0</td>\n",
       "      <td>Approved</td>\n",
       "      <td>NaN</td>\n",
       "      <td>NaN</td>\n",
       "      <td>NaN</td>\n",
       "      <td>NaN</td>\n",
       "      <td>1942.61</td>\n",
       "      <td>NaN</td>\n",
       "      <td>NaN</td>\n",
       "    </tr>\n",
       "    <tr>\n",
       "      <th>159</th>\n",
       "      <td>160</td>\n",
       "      <td>0</td>\n",
       "      <td>3300</td>\n",
       "      <td>2017-08-27</td>\n",
       "      <td>0.0</td>\n",
       "      <td>Approved</td>\n",
       "      <td>NaN</td>\n",
       "      <td>NaN</td>\n",
       "      <td>NaN</td>\n",
       "      <td>NaN</td>\n",
       "      <td>1656.86</td>\n",
       "      <td>NaN</td>\n",
       "      <td>NaN</td>\n",
       "    </tr>\n",
       "    <tr>\n",
       "      <th>366</th>\n",
       "      <td>367</td>\n",
       "      <td>0</td>\n",
       "      <td>1614</td>\n",
       "      <td>2017-03-10</td>\n",
       "      <td>0.0</td>\n",
       "      <td>Approved</td>\n",
       "      <td>NaN</td>\n",
       "      <td>NaN</td>\n",
       "      <td>NaN</td>\n",
       "      <td>NaN</td>\n",
       "      <td>850.89</td>\n",
       "      <td>NaN</td>\n",
       "      <td>NaN</td>\n",
       "    </tr>\n",
       "    <tr>\n",
       "      <th>406</th>\n",
       "      <td>407</td>\n",
       "      <td>0</td>\n",
       "      <td>2559</td>\n",
       "      <td>2017-06-14</td>\n",
       "      <td>1.0</td>\n",
       "      <td>Approved</td>\n",
       "      <td>NaN</td>\n",
       "      <td>NaN</td>\n",
       "      <td>NaN</td>\n",
       "      <td>NaN</td>\n",
       "      <td>710.59</td>\n",
       "      <td>NaN</td>\n",
       "      <td>NaN</td>\n",
       "    </tr>\n",
       "    <tr>\n",
       "      <th>676</th>\n",
       "      <td>677</td>\n",
       "      <td>0</td>\n",
       "      <td>2609</td>\n",
       "      <td>2017-07-02</td>\n",
       "      <td>0.0</td>\n",
       "      <td>Approved</td>\n",
       "      <td>NaN</td>\n",
       "      <td>NaN</td>\n",
       "      <td>NaN</td>\n",
       "      <td>NaN</td>\n",
       "      <td>1972.01</td>\n",
       "      <td>NaN</td>\n",
       "      <td>NaN</td>\n",
       "    </tr>\n",
       "    <tr>\n",
       "      <th>...</th>\n",
       "      <td>...</td>\n",
       "      <td>...</td>\n",
       "      <td>...</td>\n",
       "      <td>...</td>\n",
       "      <td>...</td>\n",
       "      <td>...</td>\n",
       "      <td>...</td>\n",
       "      <td>...</td>\n",
       "      <td>...</td>\n",
       "      <td>...</td>\n",
       "      <td>...</td>\n",
       "      <td>...</td>\n",
       "      <td>...</td>\n",
       "    </tr>\n",
       "    <tr>\n",
       "      <th>19340</th>\n",
       "      <td>19341</td>\n",
       "      <td>0</td>\n",
       "      <td>443</td>\n",
       "      <td>2017-12-26</td>\n",
       "      <td>1.0</td>\n",
       "      <td>Approved</td>\n",
       "      <td>NaN</td>\n",
       "      <td>NaN</td>\n",
       "      <td>NaN</td>\n",
       "      <td>NaN</td>\n",
       "      <td>744.54</td>\n",
       "      <td>NaN</td>\n",
       "      <td>NaN</td>\n",
       "    </tr>\n",
       "    <tr>\n",
       "      <th>19383</th>\n",
       "      <td>19384</td>\n",
       "      <td>0</td>\n",
       "      <td>2407</td>\n",
       "      <td>2017-06-11</td>\n",
       "      <td>0.0</td>\n",
       "      <td>Approved</td>\n",
       "      <td>NaN</td>\n",
       "      <td>NaN</td>\n",
       "      <td>NaN</td>\n",
       "      <td>NaN</td>\n",
       "      <td>1098.18</td>\n",
       "      <td>NaN</td>\n",
       "      <td>NaN</td>\n",
       "    </tr>\n",
       "    <tr>\n",
       "      <th>19793</th>\n",
       "      <td>19794</td>\n",
       "      <td>0</td>\n",
       "      <td>2860</td>\n",
       "      <td>2017-01-13</td>\n",
       "      <td>0.0</td>\n",
       "      <td>Approved</td>\n",
       "      <td>NaN</td>\n",
       "      <td>NaN</td>\n",
       "      <td>NaN</td>\n",
       "      <td>NaN</td>\n",
       "      <td>868.56</td>\n",
       "      <td>NaN</td>\n",
       "      <td>NaN</td>\n",
       "    </tr>\n",
       "    <tr>\n",
       "      <th>19859</th>\n",
       "      <td>19860</td>\n",
       "      <td>0</td>\n",
       "      <td>2468</td>\n",
       "      <td>2017-06-24</td>\n",
       "      <td>1.0</td>\n",
       "      <td>Approved</td>\n",
       "      <td>NaN</td>\n",
       "      <td>NaN</td>\n",
       "      <td>NaN</td>\n",
       "      <td>NaN</td>\n",
       "      <td>1497.43</td>\n",
       "      <td>NaN</td>\n",
       "      <td>NaN</td>\n",
       "    </tr>\n",
       "    <tr>\n",
       "      <th>19871</th>\n",
       "      <td>19872</td>\n",
       "      <td>0</td>\n",
       "      <td>61</td>\n",
       "      <td>2017-03-17</td>\n",
       "      <td>1.0</td>\n",
       "      <td>Approved</td>\n",
       "      <td>NaN</td>\n",
       "      <td>NaN</td>\n",
       "      <td>NaN</td>\n",
       "      <td>NaN</td>\n",
       "      <td>867.92</td>\n",
       "      <td>NaN</td>\n",
       "      <td>NaN</td>\n",
       "    </tr>\n",
       "  </tbody>\n",
       "</table>\n",
       "<p>197 rows × 13 columns</p>\n",
       "</div>"
      ],
      "text/plain": [
       "       transaction_id  product_id  customer_id transaction_date  online_order  \\\n",
       "136               137           0          431       2017-09-23           0.0   \n",
       "159               160           0         3300       2017-08-27           0.0   \n",
       "366               367           0         1614       2017-03-10           0.0   \n",
       "406               407           0         2559       2017-06-14           1.0   \n",
       "676               677           0         2609       2017-07-02           0.0   \n",
       "...               ...         ...          ...              ...           ...   \n",
       "19340           19341           0          443       2017-12-26           1.0   \n",
       "19383           19384           0         2407       2017-06-11           0.0   \n",
       "19793           19794           0         2860       2017-01-13           0.0   \n",
       "19859           19860           0         2468       2017-06-24           1.0   \n",
       "19871           19872           0           61       2017-03-17           1.0   \n",
       "\n",
       "      order_status brand product_line product_class product_size  list_price  \\\n",
       "136       Approved   NaN          NaN           NaN          NaN     1942.61   \n",
       "159       Approved   NaN          NaN           NaN          NaN     1656.86   \n",
       "366       Approved   NaN          NaN           NaN          NaN      850.89   \n",
       "406       Approved   NaN          NaN           NaN          NaN      710.59   \n",
       "676       Approved   NaN          NaN           NaN          NaN     1972.01   \n",
       "...            ...   ...          ...           ...          ...         ...   \n",
       "19340     Approved   NaN          NaN           NaN          NaN      744.54   \n",
       "19383     Approved   NaN          NaN           NaN          NaN     1098.18   \n",
       "19793     Approved   NaN          NaN           NaN          NaN      868.56   \n",
       "19859     Approved   NaN          NaN           NaN          NaN     1497.43   \n",
       "19871     Approved   NaN          NaN           NaN          NaN      867.92   \n",
       "\n",
       "       standard_cost  product_first_sold  \n",
       "136              NaN                 NaN  \n",
       "159              NaN                 NaN  \n",
       "366              NaN                 NaN  \n",
       "406              NaN                 NaN  \n",
       "676              NaN                 NaN  \n",
       "...              ...                 ...  \n",
       "19340            NaN                 NaN  \n",
       "19383            NaN                 NaN  \n",
       "19793            NaN                 NaN  \n",
       "19859            NaN                 NaN  \n",
       "19871            NaN                 NaN  \n",
       "\n",
       "[197 rows x 13 columns]"
      ]
     },
     "execution_count": 39,
     "metadata": {},
     "output_type": "execute_result"
    }
   ],
   "source": [
    "df1[df1.brand.isnull()]"
   ]
  },
  {
   "cell_type": "markdown",
   "id": "a22b8988",
   "metadata": {},
   "source": [
    "**drop those related to product**"
   ]
  },
  {
   "cell_type": "code",
   "execution_count": 40,
   "id": "1950cdda",
   "metadata": {},
   "outputs": [
    {
     "data": {
      "text/html": [
       "<div>\n",
       "<style scoped>\n",
       "    .dataframe tbody tr th:only-of-type {\n",
       "        vertical-align: middle;\n",
       "    }\n",
       "\n",
       "    .dataframe tbody tr th {\n",
       "        vertical-align: top;\n",
       "    }\n",
       "\n",
       "    .dataframe thead th {\n",
       "        text-align: right;\n",
       "    }\n",
       "</style>\n",
       "<table border=\"1\" class=\"dataframe\">\n",
       "  <thead>\n",
       "    <tr style=\"text-align: right;\">\n",
       "      <th></th>\n",
       "      <th>transaction_id</th>\n",
       "      <th>product_id</th>\n",
       "      <th>customer_id</th>\n",
       "      <th>transaction_date</th>\n",
       "      <th>online_order</th>\n",
       "      <th>order_status</th>\n",
       "      <th>brand</th>\n",
       "      <th>product_line</th>\n",
       "      <th>product_class</th>\n",
       "      <th>product_size</th>\n",
       "      <th>list_price</th>\n",
       "      <th>standard_cost</th>\n",
       "      <th>product_first_sold</th>\n",
       "    </tr>\n",
       "  </thead>\n",
       "  <tbody>\n",
       "    <tr>\n",
       "      <th>97</th>\n",
       "      <td>98</td>\n",
       "      <td>49</td>\n",
       "      <td>333</td>\n",
       "      <td>2017-06-23</td>\n",
       "      <td>NaN</td>\n",
       "      <td>Approved</td>\n",
       "      <td>Trek Bicycles</td>\n",
       "      <td>Road</td>\n",
       "      <td>medium</td>\n",
       "      <td>medium</td>\n",
       "      <td>533.51</td>\n",
       "      <td>400.13</td>\n",
       "      <td>37823.0</td>\n",
       "    </tr>\n",
       "    <tr>\n",
       "      <th>166</th>\n",
       "      <td>167</td>\n",
       "      <td>90</td>\n",
       "      <td>3177</td>\n",
       "      <td>2017-04-26</td>\n",
       "      <td>NaN</td>\n",
       "      <td>Approved</td>\n",
       "      <td>Norco Bicycles</td>\n",
       "      <td>Standard</td>\n",
       "      <td>low</td>\n",
       "      <td>medium</td>\n",
       "      <td>363.01</td>\n",
       "      <td>290.41</td>\n",
       "      <td>38482.0</td>\n",
       "    </tr>\n",
       "    <tr>\n",
       "      <th>169</th>\n",
       "      <td>170</td>\n",
       "      <td>6</td>\n",
       "      <td>404</td>\n",
       "      <td>2017-10-16</td>\n",
       "      <td>NaN</td>\n",
       "      <td>Approved</td>\n",
       "      <td>OHM Cycles</td>\n",
       "      <td>Standard</td>\n",
       "      <td>high</td>\n",
       "      <td>medium</td>\n",
       "      <td>227.88</td>\n",
       "      <td>136.73</td>\n",
       "      <td>37838.0</td>\n",
       "    </tr>\n",
       "    <tr>\n",
       "      <th>250</th>\n",
       "      <td>251</td>\n",
       "      <td>63</td>\n",
       "      <td>1967</td>\n",
       "      <td>2017-04-11</td>\n",
       "      <td>NaN</td>\n",
       "      <td>Approved</td>\n",
       "      <td>Solex</td>\n",
       "      <td>Standard</td>\n",
       "      <td>medium</td>\n",
       "      <td>medium</td>\n",
       "      <td>1483.20</td>\n",
       "      <td>99.59</td>\n",
       "      <td>42145.0</td>\n",
       "    </tr>\n",
       "    <tr>\n",
       "      <th>300</th>\n",
       "      <td>301</td>\n",
       "      <td>78</td>\n",
       "      <td>2530</td>\n",
       "      <td>2017-03-24</td>\n",
       "      <td>NaN</td>\n",
       "      <td>Approved</td>\n",
       "      <td>Giant Bicycles</td>\n",
       "      <td>Standard</td>\n",
       "      <td>medium</td>\n",
       "      <td>large</td>\n",
       "      <td>1765.30</td>\n",
       "      <td>709.48</td>\n",
       "      <td>35455.0</td>\n",
       "    </tr>\n",
       "    <tr>\n",
       "      <th>...</th>\n",
       "      <td>...</td>\n",
       "      <td>...</td>\n",
       "      <td>...</td>\n",
       "      <td>...</td>\n",
       "      <td>...</td>\n",
       "      <td>...</td>\n",
       "      <td>...</td>\n",
       "      <td>...</td>\n",
       "      <td>...</td>\n",
       "      <td>...</td>\n",
       "      <td>...</td>\n",
       "      <td>...</td>\n",
       "      <td>...</td>\n",
       "    </tr>\n",
       "    <tr>\n",
       "      <th>19514</th>\n",
       "      <td>19515</td>\n",
       "      <td>51</td>\n",
       "      <td>690</td>\n",
       "      <td>2017-01-22</td>\n",
       "      <td>NaN</td>\n",
       "      <td>Approved</td>\n",
       "      <td>OHM Cycles</td>\n",
       "      <td>Standard</td>\n",
       "      <td>high</td>\n",
       "      <td>medium</td>\n",
       "      <td>2005.66</td>\n",
       "      <td>1203.40</td>\n",
       "      <td>37823.0</td>\n",
       "    </tr>\n",
       "    <tr>\n",
       "      <th>19573</th>\n",
       "      <td>19574</td>\n",
       "      <td>18</td>\n",
       "      <td>1735</td>\n",
       "      <td>2017-01-15</td>\n",
       "      <td>NaN</td>\n",
       "      <td>Approved</td>\n",
       "      <td>Solex</td>\n",
       "      <td>Standard</td>\n",
       "      <td>medium</td>\n",
       "      <td>medium</td>\n",
       "      <td>575.27</td>\n",
       "      <td>431.45</td>\n",
       "      <td>41345.0</td>\n",
       "    </tr>\n",
       "    <tr>\n",
       "      <th>19580</th>\n",
       "      <td>19581</td>\n",
       "      <td>49</td>\n",
       "      <td>1933</td>\n",
       "      <td>2017-10-12</td>\n",
       "      <td>NaN</td>\n",
       "      <td>Approved</td>\n",
       "      <td>Trek Bicycles</td>\n",
       "      <td>Road</td>\n",
       "      <td>medium</td>\n",
       "      <td>medium</td>\n",
       "      <td>533.51</td>\n",
       "      <td>400.13</td>\n",
       "      <td>41064.0</td>\n",
       "    </tr>\n",
       "    <tr>\n",
       "      <th>19635</th>\n",
       "      <td>19636</td>\n",
       "      <td>98</td>\n",
       "      <td>1389</td>\n",
       "      <td>2017-07-26</td>\n",
       "      <td>NaN</td>\n",
       "      <td>Approved</td>\n",
       "      <td>Trek Bicycles</td>\n",
       "      <td>Standard</td>\n",
       "      <td>high</td>\n",
       "      <td>medium</td>\n",
       "      <td>358.39</td>\n",
       "      <td>215.03</td>\n",
       "      <td>38002.0</td>\n",
       "    </tr>\n",
       "    <tr>\n",
       "      <th>19843</th>\n",
       "      <td>19844</td>\n",
       "      <td>3</td>\n",
       "      <td>8</td>\n",
       "      <td>2017-01-28</td>\n",
       "      <td>NaN</td>\n",
       "      <td>Approved</td>\n",
       "      <td>Trek Bicycles</td>\n",
       "      <td>Standard</td>\n",
       "      <td>medium</td>\n",
       "      <td>large</td>\n",
       "      <td>2091.47</td>\n",
       "      <td>388.92</td>\n",
       "      <td>37823.0</td>\n",
       "    </tr>\n",
       "  </tbody>\n",
       "</table>\n",
       "<p>360 rows × 13 columns</p>\n",
       "</div>"
      ],
      "text/plain": [
       "       transaction_id  product_id  customer_id transaction_date  online_order  \\\n",
       "97                 98          49          333       2017-06-23           NaN   \n",
       "166               167          90         3177       2017-04-26           NaN   \n",
       "169               170           6          404       2017-10-16           NaN   \n",
       "250               251          63         1967       2017-04-11           NaN   \n",
       "300               301          78         2530       2017-03-24           NaN   \n",
       "...               ...         ...          ...              ...           ...   \n",
       "19514           19515          51          690       2017-01-22           NaN   \n",
       "19573           19574          18         1735       2017-01-15           NaN   \n",
       "19580           19581          49         1933       2017-10-12           NaN   \n",
       "19635           19636          98         1389       2017-07-26           NaN   \n",
       "19843           19844           3            8       2017-01-28           NaN   \n",
       "\n",
       "      order_status           brand product_line product_class product_size  \\\n",
       "97        Approved   Trek Bicycles         Road        medium       medium   \n",
       "166       Approved  Norco Bicycles     Standard           low       medium   \n",
       "169       Approved      OHM Cycles     Standard          high       medium   \n",
       "250       Approved           Solex     Standard        medium       medium   \n",
       "300       Approved  Giant Bicycles     Standard        medium        large   \n",
       "...            ...             ...          ...           ...          ...   \n",
       "19514     Approved      OHM Cycles     Standard          high       medium   \n",
       "19573     Approved           Solex     Standard        medium       medium   \n",
       "19580     Approved   Trek Bicycles         Road        medium       medium   \n",
       "19635     Approved   Trek Bicycles     Standard          high       medium   \n",
       "19843     Approved   Trek Bicycles     Standard        medium        large   \n",
       "\n",
       "       list_price  standard_cost  product_first_sold  \n",
       "97         533.51         400.13             37823.0  \n",
       "166        363.01         290.41             38482.0  \n",
       "169        227.88         136.73             37838.0  \n",
       "250       1483.20          99.59             42145.0  \n",
       "300       1765.30         709.48             35455.0  \n",
       "...           ...            ...                 ...  \n",
       "19514     2005.66        1203.40             37823.0  \n",
       "19573      575.27         431.45             41345.0  \n",
       "19580      533.51         400.13             41064.0  \n",
       "19635      358.39         215.03             38002.0  \n",
       "19843     2091.47         388.92             37823.0  \n",
       "\n",
       "[360 rows x 13 columns]"
      ]
     },
     "execution_count": 40,
     "metadata": {},
     "output_type": "execute_result"
    }
   ],
   "source": [
    "df1[df1.online_order.isnull()]"
   ]
  },
  {
   "cell_type": "code",
   "execution_count": 41,
   "id": "41678823",
   "metadata": {},
   "outputs": [
    {
     "data": {
      "text/plain": [
       "1.0    9829\n",
       "0.0    9811\n",
       "Name: online_order, dtype: int64"
      ]
     },
     "execution_count": 41,
     "metadata": {},
     "output_type": "execute_result"
    }
   ],
   "source": [
    "df1.online_order.value_counts()"
   ]
  },
  {
   "cell_type": "markdown",
   "id": "ccbb6caf",
   "metadata": {},
   "source": [
    "### Define:\n",
    "use use the mode to replace missing values in the online_order, and we drop the other rows with missing values\n",
    "### Code:"
   ]
  },
  {
   "cell_type": "code",
   "execution_count": 42,
   "id": "c8568acb",
   "metadata": {},
   "outputs": [],
   "source": [
    "df1.online_order.fillna(df1.online_order.mode()[0], inplace=True)"
   ]
  },
  {
   "cell_type": "markdown",
   "id": "425537aa",
   "metadata": {},
   "source": [
    "### Test"
   ]
  },
  {
   "cell_type": "code",
   "execution_count": 43,
   "id": "238ce85e",
   "metadata": {},
   "outputs": [
    {
     "data": {
      "text/plain": [
       "False"
      ]
     },
     "execution_count": 43,
     "metadata": {},
     "output_type": "execute_result"
    }
   ],
   "source": [
    "df1.online_order.isnull().any()"
   ]
  },
  {
   "cell_type": "code",
   "execution_count": 44,
   "id": "7bbae767",
   "metadata": {},
   "outputs": [
    {
     "data": {
      "text/plain": [
       "1.0    10189\n",
       "0.0     9811\n",
       "Name: online_order, dtype: int64"
      ]
     },
     "execution_count": 44,
     "metadata": {},
     "output_type": "execute_result"
    }
   ],
   "source": [
    "df1.online_order.value_counts()"
   ]
  },
  {
   "cell_type": "code",
   "execution_count": 48,
   "id": "48a7d4c2",
   "metadata": {},
   "outputs": [],
   "source": [
    "#drop other rows\n",
    "df1.dropna(axis=0, inplace=True)"
   ]
  },
  {
   "cell_type": "markdown",
   "id": "d6d692d3",
   "metadata": {},
   "source": [
    "### Test"
   ]
  },
  {
   "cell_type": "code",
   "execution_count": 50,
   "id": "687d7f30",
   "metadata": {},
   "outputs": [
    {
     "data": {
      "text/plain": [
       "False"
      ]
     },
     "execution_count": 50,
     "metadata": {},
     "output_type": "execute_result"
    }
   ],
   "source": [
    "df1.isnull().sum().any()"
   ]
  },
  {
   "cell_type": "markdown",
   "id": "44e1aa89",
   "metadata": {},
   "source": [
    "## Issue #3: online_order value should not be a float"
   ]
  },
  {
   "cell_type": "markdown",
   "id": "eca47c6c",
   "metadata": {},
   "source": [
    "### Define:\n",
    "Use `astype` to change the type of the column to int\n",
    "### Code:"
   ]
  },
  {
   "cell_type": "code",
   "execution_count": 51,
   "id": "11078c7d",
   "metadata": {},
   "outputs": [],
   "source": [
    "df1.online_order = df1.online_order.astype('int')"
   ]
  },
  {
   "cell_type": "markdown",
   "id": "a9b023d2",
   "metadata": {},
   "source": [
    "### Test"
   ]
  },
  {
   "cell_type": "code",
   "execution_count": 52,
   "id": "71aff073",
   "metadata": {},
   "outputs": [
    {
     "data": {
      "text/plain": [
       "dtype('int32')"
      ]
     },
     "execution_count": 52,
     "metadata": {},
     "output_type": "execute_result"
    }
   ],
   "source": [
    "df1.online_order.dtype"
   ]
  },
  {
   "cell_type": "code",
   "execution_count": 119,
   "id": "485183b1",
   "metadata": {},
   "outputs": [
    {
     "data": {
      "text/html": [
       "<div>\n",
       "<style scoped>\n",
       "    .dataframe tbody tr th:only-of-type {\n",
       "        vertical-align: middle;\n",
       "    }\n",
       "\n",
       "    .dataframe tbody tr th {\n",
       "        vertical-align: top;\n",
       "    }\n",
       "\n",
       "    .dataframe thead th {\n",
       "        text-align: right;\n",
       "    }\n",
       "</style>\n",
       "<table border=\"1\" class=\"dataframe\">\n",
       "  <thead>\n",
       "    <tr style=\"text-align: right;\">\n",
       "      <th></th>\n",
       "      <th>transaction_id</th>\n",
       "      <th>product_id</th>\n",
       "      <th>customer_id</th>\n",
       "      <th>transaction_date</th>\n",
       "      <th>online_order</th>\n",
       "      <th>order_status</th>\n",
       "      <th>brand</th>\n",
       "      <th>product_line</th>\n",
       "      <th>product_class</th>\n",
       "      <th>product_size</th>\n",
       "      <th>list_price</th>\n",
       "      <th>standard_cost</th>\n",
       "      <th>product_first_sold</th>\n",
       "    </tr>\n",
       "  </thead>\n",
       "  <tbody>\n",
       "    <tr>\n",
       "      <th>0</th>\n",
       "      <td>1</td>\n",
       "      <td>2</td>\n",
       "      <td>2950</td>\n",
       "      <td>2017-02-25</td>\n",
       "      <td>0</td>\n",
       "      <td>Approved</td>\n",
       "      <td>Solex</td>\n",
       "      <td>Standard</td>\n",
       "      <td>medium</td>\n",
       "      <td>medium</td>\n",
       "      <td>71.49</td>\n",
       "      <td>53.62</td>\n",
       "      <td>41245.0</td>\n",
       "    </tr>\n",
       "    <tr>\n",
       "      <th>1</th>\n",
       "      <td>2</td>\n",
       "      <td>3</td>\n",
       "      <td>3120</td>\n",
       "      <td>2017-05-21</td>\n",
       "      <td>1</td>\n",
       "      <td>Approved</td>\n",
       "      <td>Trek Bicycles</td>\n",
       "      <td>Standard</td>\n",
       "      <td>medium</td>\n",
       "      <td>large</td>\n",
       "      <td>2091.47</td>\n",
       "      <td>388.92</td>\n",
       "      <td>41701.0</td>\n",
       "    </tr>\n",
       "    <tr>\n",
       "      <th>2</th>\n",
       "      <td>3</td>\n",
       "      <td>37</td>\n",
       "      <td>402</td>\n",
       "      <td>2017-10-16</td>\n",
       "      <td>0</td>\n",
       "      <td>Approved</td>\n",
       "      <td>OHM Cycles</td>\n",
       "      <td>Standard</td>\n",
       "      <td>low</td>\n",
       "      <td>medium</td>\n",
       "      <td>1793.43</td>\n",
       "      <td>248.82</td>\n",
       "      <td>36361.0</td>\n",
       "    </tr>\n",
       "    <tr>\n",
       "      <th>3</th>\n",
       "      <td>4</td>\n",
       "      <td>88</td>\n",
       "      <td>3135</td>\n",
       "      <td>2017-08-31</td>\n",
       "      <td>0</td>\n",
       "      <td>Approved</td>\n",
       "      <td>Norco Bicycles</td>\n",
       "      <td>Standard</td>\n",
       "      <td>medium</td>\n",
       "      <td>medium</td>\n",
       "      <td>1198.46</td>\n",
       "      <td>381.10</td>\n",
       "      <td>36145.0</td>\n",
       "    </tr>\n",
       "    <tr>\n",
       "      <th>4</th>\n",
       "      <td>5</td>\n",
       "      <td>78</td>\n",
       "      <td>787</td>\n",
       "      <td>2017-10-01</td>\n",
       "      <td>1</td>\n",
       "      <td>Approved</td>\n",
       "      <td>Giant Bicycles</td>\n",
       "      <td>Standard</td>\n",
       "      <td>medium</td>\n",
       "      <td>large</td>\n",
       "      <td>1765.30</td>\n",
       "      <td>709.48</td>\n",
       "      <td>42226.0</td>\n",
       "    </tr>\n",
       "  </tbody>\n",
       "</table>\n",
       "</div>"
      ],
      "text/plain": [
       "   transaction_id  product_id  customer_id transaction_date  online_order  \\\n",
       "0               1           2         2950       2017-02-25             0   \n",
       "1               2           3         3120       2017-05-21             1   \n",
       "2               3          37          402       2017-10-16             0   \n",
       "3               4          88         3135       2017-08-31             0   \n",
       "4               5          78          787       2017-10-01             1   \n",
       "\n",
       "  order_status           brand product_line product_class product_size  \\\n",
       "0     Approved           Solex     Standard        medium       medium   \n",
       "1     Approved   Trek Bicycles     Standard        medium        large   \n",
       "2     Approved      OHM Cycles     Standard           low       medium   \n",
       "3     Approved  Norco Bicycles     Standard        medium       medium   \n",
       "4     Approved  Giant Bicycles     Standard        medium        large   \n",
       "\n",
       "   list_price  standard_cost  product_first_sold  \n",
       "0       71.49          53.62             41245.0  \n",
       "1     2091.47         388.92             41701.0  \n",
       "2     1793.43         248.82             36361.0  \n",
       "3     1198.46         381.10             36145.0  \n",
       "4     1765.30         709.48             42226.0  "
      ]
     },
     "execution_count": 119,
     "metadata": {},
     "output_type": "execute_result"
    }
   ],
   "source": [
    "df1.head()"
   ]
  },
  {
   "cell_type": "markdown",
   "id": "6aaf3739",
   "metadata": {},
   "source": [
    "# `Customer Demographic Table`"
   ]
  },
  {
   "cell_type": "code",
   "execution_count": 53,
   "id": "302f34a8",
   "metadata": {},
   "outputs": [
    {
     "name": "stderr",
     "output_type": "stream",
     "text": [
      "C:\\Users\\d\\AppData\\Local\\Temp\\ipykernel_10188\\1525706453.py:1: FutureWarning: Inferring datetime64[ns] from data containing strings is deprecated and will be removed in a future version. To retain the old behavior explicitly pass Series(data, dtype=datetime64[ns])\n",
      "  df_cusdem = pd.read_excel(file, 'CustomerDemographic', header=1)\n"
     ]
    },
    {
     "data": {
      "text/html": [
       "<div>\n",
       "<style scoped>\n",
       "    .dataframe tbody tr th:only-of-type {\n",
       "        vertical-align: middle;\n",
       "    }\n",
       "\n",
       "    .dataframe tbody tr th {\n",
       "        vertical-align: top;\n",
       "    }\n",
       "\n",
       "    .dataframe thead th {\n",
       "        text-align: right;\n",
       "    }\n",
       "</style>\n",
       "<table border=\"1\" class=\"dataframe\">\n",
       "  <thead>\n",
       "    <tr style=\"text-align: right;\">\n",
       "      <th></th>\n",
       "      <th>customer_id</th>\n",
       "      <th>first_name</th>\n",
       "      <th>last_name</th>\n",
       "      <th>gender</th>\n",
       "      <th>past_3_years_bike_related_purchases</th>\n",
       "      <th>DOB</th>\n",
       "      <th>job_title</th>\n",
       "      <th>job_industry_category</th>\n",
       "      <th>wealth_segment</th>\n",
       "      <th>deceased_indicator</th>\n",
       "      <th>default</th>\n",
       "      <th>owns_car</th>\n",
       "      <th>tenure</th>\n",
       "    </tr>\n",
       "  </thead>\n",
       "  <tbody>\n",
       "    <tr>\n",
       "      <th>0</th>\n",
       "      <td>1</td>\n",
       "      <td>Laraine</td>\n",
       "      <td>Medendorp</td>\n",
       "      <td>F</td>\n",
       "      <td>93</td>\n",
       "      <td>1953-10-12</td>\n",
       "      <td>Executive Secretary</td>\n",
       "      <td>Health</td>\n",
       "      <td>Mass Customer</td>\n",
       "      <td>N</td>\n",
       "      <td>\"'</td>\n",
       "      <td>Yes</td>\n",
       "      <td>11.0</td>\n",
       "    </tr>\n",
       "    <tr>\n",
       "      <th>1</th>\n",
       "      <td>2</td>\n",
       "      <td>Eli</td>\n",
       "      <td>Bockman</td>\n",
       "      <td>Male</td>\n",
       "      <td>81</td>\n",
       "      <td>1980-12-16</td>\n",
       "      <td>Administrative Officer</td>\n",
       "      <td>Financial Services</td>\n",
       "      <td>Mass Customer</td>\n",
       "      <td>N</td>\n",
       "      <td>&lt;script&gt;alert('hi')&lt;/script&gt;</td>\n",
       "      <td>Yes</td>\n",
       "      <td>16.0</td>\n",
       "    </tr>\n",
       "    <tr>\n",
       "      <th>2</th>\n",
       "      <td>3</td>\n",
       "      <td>Arlin</td>\n",
       "      <td>Dearle</td>\n",
       "      <td>Male</td>\n",
       "      <td>61</td>\n",
       "      <td>1954-01-20</td>\n",
       "      <td>Recruiting Manager</td>\n",
       "      <td>Property</td>\n",
       "      <td>Mass Customer</td>\n",
       "      <td>N</td>\n",
       "      <td>2018-02-01 00:00:00</td>\n",
       "      <td>Yes</td>\n",
       "      <td>15.0</td>\n",
       "    </tr>\n",
       "    <tr>\n",
       "      <th>3</th>\n",
       "      <td>4</td>\n",
       "      <td>Talbot</td>\n",
       "      <td>NaN</td>\n",
       "      <td>Male</td>\n",
       "      <td>33</td>\n",
       "      <td>1961-10-03</td>\n",
       "      <td>NaN</td>\n",
       "      <td>IT</td>\n",
       "      <td>Mass Customer</td>\n",
       "      <td>N</td>\n",
       "      <td>() { _; } &gt;_[$($())] { touch /tmp/blns.shellsh...</td>\n",
       "      <td>No</td>\n",
       "      <td>7.0</td>\n",
       "    </tr>\n",
       "    <tr>\n",
       "      <th>4</th>\n",
       "      <td>5</td>\n",
       "      <td>Sheila-kathryn</td>\n",
       "      <td>Calton</td>\n",
       "      <td>Female</td>\n",
       "      <td>56</td>\n",
       "      <td>1977-05-13</td>\n",
       "      <td>Senior Editor</td>\n",
       "      <td>NaN</td>\n",
       "      <td>Affluent Customer</td>\n",
       "      <td>N</td>\n",
       "      <td>NIL</td>\n",
       "      <td>Yes</td>\n",
       "      <td>8.0</td>\n",
       "    </tr>\n",
       "  </tbody>\n",
       "</table>\n",
       "</div>"
      ],
      "text/plain": [
       "   customer_id      first_name  last_name  gender  \\\n",
       "0            1         Laraine  Medendorp       F   \n",
       "1            2             Eli    Bockman    Male   \n",
       "2            3           Arlin     Dearle    Male   \n",
       "3            4          Talbot        NaN    Male   \n",
       "4            5  Sheila-kathryn     Calton  Female   \n",
       "\n",
       "   past_3_years_bike_related_purchases        DOB               job_title  \\\n",
       "0                                   93 1953-10-12     Executive Secretary   \n",
       "1                                   81 1980-12-16  Administrative Officer   \n",
       "2                                   61 1954-01-20      Recruiting Manager   \n",
       "3                                   33 1961-10-03                     NaN   \n",
       "4                                   56 1977-05-13           Senior Editor   \n",
       "\n",
       "  job_industry_category     wealth_segment deceased_indicator  \\\n",
       "0                Health      Mass Customer                  N   \n",
       "1    Financial Services      Mass Customer                  N   \n",
       "2              Property      Mass Customer                  N   \n",
       "3                    IT      Mass Customer                  N   \n",
       "4                   NaN  Affluent Customer                  N   \n",
       "\n",
       "                                             default owns_car  tenure  \n",
       "0                                                 \"'      Yes    11.0  \n",
       "1                       <script>alert('hi')</script>      Yes    16.0  \n",
       "2                                2018-02-01 00:00:00      Yes    15.0  \n",
       "3  () { _; } >_[$($())] { touch /tmp/blns.shellsh...       No     7.0  \n",
       "4                                                NIL      Yes     8.0  "
      ]
     },
     "execution_count": 53,
     "metadata": {},
     "output_type": "execute_result"
    }
   ],
   "source": [
    "df_cusdem = pd.read_excel(file, 'CustomerDemographic', header=1)\n",
    "df_cusdem.head()"
   ]
  },
  {
   "cell_type": "code",
   "execution_count": 73,
   "id": "1de01da5",
   "metadata": {},
   "outputs": [],
   "source": [
    "df2 = df_cusdem.copy()"
   ]
  },
  {
   "cell_type": "markdown",
   "id": "0397374d",
   "metadata": {},
   "source": [
    "## Issue #1: missing values in six columns (last_name, DOB, job_title, job_industry_category, default, tenure)"
   ]
  },
  {
   "cell_type": "markdown",
   "id": "9f8c40ec",
   "metadata": {},
   "source": [
    "let's inspect it and see "
   ]
  },
  {
   "cell_type": "code",
   "execution_count": 74,
   "id": "da7ff468",
   "metadata": {},
   "outputs": [
    {
     "name": "stdout",
     "output_type": "stream",
     "text": [
      "number of records: 4000\n"
     ]
    },
    {
     "data": {
      "text/plain": [
       "last_name                125\n",
       "DOB                       87\n",
       "job_title                506\n",
       "job_industry_category    656\n",
       "default                  302\n",
       "tenure                    87\n",
       "dtype: int64"
      ]
     },
     "execution_count": 74,
     "metadata": {},
     "output_type": "execute_result"
    }
   ],
   "source": [
    "rows = df2.shape[0]\n",
    "print(f'number of records: {rows}')\n",
    "nulls = df2.isnull().sum()\n",
    "nulls[nulls>0]"
   ]
  },
  {
   "cell_type": "code",
   "execution_count": 75,
   "id": "77c571bd",
   "metadata": {},
   "outputs": [
    {
     "data": {
      "text/plain": [
       "last_name                 3.125\n",
       "DOB                       2.175\n",
       "job_title                12.650\n",
       "job_industry_category    16.400\n",
       "default                   7.550\n",
       "tenure                    2.175\n",
       "dtype: float64"
      ]
     },
     "execution_count": 75,
     "metadata": {},
     "output_type": "execute_result"
    }
   ],
   "source": [
    "nulls[nulls>0]/rows*100"
   ]
  },
  {
   "cell_type": "markdown",
   "id": "06f16adf",
   "metadata": {},
   "source": [
    "Since they are > 1%, we can't drop them. lets fill with the most in the distribution."
   ]
  },
  {
   "cell_type": "code",
   "execution_count": 76,
   "id": "a314bb6e",
   "metadata": {},
   "outputs": [],
   "source": [
    "df2.DOB.fillna(df2.DOB.mode()[0], inplace=True)\n",
    "df2.job_title.fillna(df2.job_title.mode()[0], inplace=True)\n",
    "df2.job_industry_category.fillna(df2.job_industry_category.mode()[0], inplace=True)\n",
    "df2.default.dropna(axis=0, inplace=True)"
   ]
  },
  {
   "cell_type": "code",
   "execution_count": 77,
   "id": "c3d5960d",
   "metadata": {},
   "outputs": [
    {
     "data": {
      "text/plain": [
       "<AxesSubplot:>"
      ]
     },
     "execution_count": 77,
     "metadata": {},
     "output_type": "execute_result"
    },
    {
     "data": {
      "image/png": "[encoded data removed]",
      "text/plain": [
       "<Figure size 432x288 with 1 Axes>"
      ]
     },
     "metadata": {
      "needs_background": "light"
     },
     "output_type": "display_data"
    }
   ],
   "source": [
    "df2.tenure.hist()"
   ]
  },
  {
   "cell_type": "markdown",
   "id": "b7150c31",
   "metadata": {},
   "source": [
    "let's use mean for tenure since its not skewed "
   ]
  },
  {
   "cell_type": "code",
   "execution_count": 78,
   "id": "07dd5bcf",
   "metadata": {},
   "outputs": [],
   "source": [
    "df2.tenure.fillna(df2.tenure.mean(), inplace=True)"
   ]
  },
  {
   "cell_type": "code",
   "execution_count": 79,
   "id": "29a5b123",
   "metadata": {},
   "outputs": [],
   "source": [
    "#drop default column\n",
    "df2.drop('default', axis=1, inplace=True)"
   ]
  },
  {
   "cell_type": "markdown",
   "id": "c5f17017",
   "metadata": {},
   "source": [
    "## Test"
   ]
  },
  {
   "cell_type": "code",
   "execution_count": 80,
   "id": "5e233b68",
   "metadata": {},
   "outputs": [
    {
     "data": {
      "text/plain": [
       "customer_id                            False\n",
       "first_name                             False\n",
       "last_name                               True\n",
       "gender                                 False\n",
       "past_3_years_bike_related_purchases    False\n",
       "DOB                                    False\n",
       "job_title                              False\n",
       "job_industry_category                  False\n",
       "wealth_segment                         False\n",
       "deceased_indicator                     False\n",
       "owns_car                               False\n",
       "tenure                                 False\n",
       "dtype: bool"
      ]
     },
     "execution_count": 80,
     "metadata": {},
     "output_type": "execute_result"
    }
   ],
   "source": [
    "df2.isnull().sum()>0"
   ]
  },
  {
   "cell_type": "markdown",
   "id": "cb624500",
   "metadata": {},
   "source": [
    "## Issue #2: inconsistent values in gender column"
   ]
  },
  {
   "cell_type": "code",
   "execution_count": null,
   "id": "e9a92003",
   "metadata": {},
   "outputs": [],
   "source": [
    "df2.gender.value_counts()"
   ]
  },
  {
   "cell_type": "markdown",
   "id": "37c08029",
   "metadata": {},
   "source": [
    "### Define:\n",
    "use `.replace()` to replace F with Female, M with Male, and U with Unspecify\n",
    "### Code"
   ]
  },
  {
   "cell_type": "code",
   "execution_count": 84,
   "id": "f6aabfc0",
   "metadata": {},
   "outputs": [],
   "source": [
    "df2.gender = df2.gender.map({'Male':'Male', 'Female': 'Female', 'F':'Female', 'M':'Male', 'U':'Unspecify'})"
   ]
  },
  {
   "cell_type": "markdown",
   "id": "560815a2",
   "metadata": {},
   "source": [
    "## Test"
   ]
  },
  {
   "cell_type": "code",
   "execution_count": 85,
   "id": "8ec8a3be",
   "metadata": {},
   "outputs": [
    {
     "data": {
      "text/plain": [
       "Female       2038\n",
       "Male         1873\n",
       "Unspecify      88\n",
       "Name: gender, dtype: int64"
      ]
     },
     "execution_count": 85,
     "metadata": {},
     "output_type": "execute_result"
    }
   ],
   "source": [
    "df2.gender.value_counts()"
   ]
  },
  {
   "cell_type": "markdown",
   "id": "d78be72a",
   "metadata": {},
   "source": [
    "## Issue #3: the Y/N in deceased_indicator column should be Yes/No"
   ]
  },
  {
   "cell_type": "code",
   "execution_count": 109,
   "id": "ef6402f1",
   "metadata": {},
   "outputs": [
    {
     "data": {
      "text/plain": [
       "array(['N', 'Y'], dtype=object)"
      ]
     },
     "execution_count": 109,
     "metadata": {},
     "output_type": "execute_result"
    }
   ],
   "source": [
    "df2.deceased_indicator.unique()"
   ]
  },
  {
   "cell_type": "markdown",
   "id": "e8e0b8d5",
   "metadata": {},
   "source": [
    "### Define:\n",
    "use `.map` to replace Y with Yes and N with No\n",
    "### Code"
   ]
  },
  {
   "cell_type": "code",
   "execution_count": 110,
   "id": "1e1a9c22",
   "metadata": {},
   "outputs": [],
   "source": [
    "df2.deceased_indicator = df2.deceased_indicator.map({'Y':'Yes', 'N':'No'})"
   ]
  },
  {
   "cell_type": "markdown",
   "id": "47e30677",
   "metadata": {},
   "source": [
    "### Test"
   ]
  },
  {
   "cell_type": "code",
   "execution_count": 111,
   "id": "6812a00d",
   "metadata": {},
   "outputs": [
    {
     "data": {
      "text/plain": [
       "array(['No', 'Yes'], dtype=object)"
      ]
     },
     "execution_count": 111,
     "metadata": {},
     "output_type": "execute_result"
    }
   ],
   "source": [
    "df2.deceased_indicator.unique()"
   ]
  },
  {
   "cell_type": "code",
   "execution_count": 120,
   "id": "231de658",
   "metadata": {},
   "outputs": [
    {
     "data": {
      "text/html": [
       "<div>\n",
       "<style scoped>\n",
       "    .dataframe tbody tr th:only-of-type {\n",
       "        vertical-align: middle;\n",
       "    }\n",
       "\n",
       "    .dataframe tbody tr th {\n",
       "        vertical-align: top;\n",
       "    }\n",
       "\n",
       "    .dataframe thead th {\n",
       "        text-align: right;\n",
       "    }\n",
       "</style>\n",
       "<table border=\"1\" class=\"dataframe\">\n",
       "  <thead>\n",
       "    <tr style=\"text-align: right;\">\n",
       "      <th></th>\n",
       "      <th>customer_id</th>\n",
       "      <th>first_name</th>\n",
       "      <th>last_name</th>\n",
       "      <th>gender</th>\n",
       "      <th>past_3_years_bike_related_purchases</th>\n",
       "      <th>DOB</th>\n",
       "      <th>job_title</th>\n",
       "      <th>job_industry_category</th>\n",
       "      <th>wealth_segment</th>\n",
       "      <th>deceased_indicator</th>\n",
       "      <th>owns_car</th>\n",
       "      <th>tenure</th>\n",
       "    </tr>\n",
       "  </thead>\n",
       "  <tbody>\n",
       "    <tr>\n",
       "      <th>0</th>\n",
       "      <td>1</td>\n",
       "      <td>Laraine</td>\n",
       "      <td>Medendorp</td>\n",
       "      <td>Female</td>\n",
       "      <td>93</td>\n",
       "      <td>1953-10-12</td>\n",
       "      <td>Executive Secretary</td>\n",
       "      <td>Health</td>\n",
       "      <td>Mass Customer</td>\n",
       "      <td>No</td>\n",
       "      <td>Yes</td>\n",
       "      <td>11.0</td>\n",
       "    </tr>\n",
       "    <tr>\n",
       "      <th>1</th>\n",
       "      <td>2</td>\n",
       "      <td>Eli</td>\n",
       "      <td>Bockman</td>\n",
       "      <td>Male</td>\n",
       "      <td>81</td>\n",
       "      <td>1980-12-16</td>\n",
       "      <td>Administrative Officer</td>\n",
       "      <td>Financial Services</td>\n",
       "      <td>Mass Customer</td>\n",
       "      <td>No</td>\n",
       "      <td>Yes</td>\n",
       "      <td>16.0</td>\n",
       "    </tr>\n",
       "    <tr>\n",
       "      <th>2</th>\n",
       "      <td>3</td>\n",
       "      <td>Arlin</td>\n",
       "      <td>Dearle</td>\n",
       "      <td>Male</td>\n",
       "      <td>61</td>\n",
       "      <td>1954-01-20</td>\n",
       "      <td>Recruiting Manager</td>\n",
       "      <td>Property</td>\n",
       "      <td>Mass Customer</td>\n",
       "      <td>No</td>\n",
       "      <td>Yes</td>\n",
       "      <td>15.0</td>\n",
       "    </tr>\n",
       "    <tr>\n",
       "      <th>3</th>\n",
       "      <td>4</td>\n",
       "      <td>Talbot</td>\n",
       "      <td>NaN</td>\n",
       "      <td>Male</td>\n",
       "      <td>33</td>\n",
       "      <td>1961-10-03</td>\n",
       "      <td>Business Systems Development Analyst</td>\n",
       "      <td>IT</td>\n",
       "      <td>Mass Customer</td>\n",
       "      <td>No</td>\n",
       "      <td>No</td>\n",
       "      <td>7.0</td>\n",
       "    </tr>\n",
       "    <tr>\n",
       "      <th>4</th>\n",
       "      <td>5</td>\n",
       "      <td>Sheila-kathryn</td>\n",
       "      <td>Calton</td>\n",
       "      <td>Female</td>\n",
       "      <td>56</td>\n",
       "      <td>1977-05-13</td>\n",
       "      <td>Senior Editor</td>\n",
       "      <td>Manufacturing</td>\n",
       "      <td>Affluent Customer</td>\n",
       "      <td>No</td>\n",
       "      <td>Yes</td>\n",
       "      <td>8.0</td>\n",
       "    </tr>\n",
       "  </tbody>\n",
       "</table>\n",
       "</div>"
      ],
      "text/plain": [
       "   customer_id      first_name  last_name  gender  \\\n",
       "0            1         Laraine  Medendorp  Female   \n",
       "1            2             Eli    Bockman    Male   \n",
       "2            3           Arlin     Dearle    Male   \n",
       "3            4          Talbot        NaN    Male   \n",
       "4            5  Sheila-kathryn     Calton  Female   \n",
       "\n",
       "   past_3_years_bike_related_purchases        DOB  \\\n",
       "0                                   93 1953-10-12   \n",
       "1                                   81 1980-12-16   \n",
       "2                                   61 1954-01-20   \n",
       "3                                   33 1961-10-03   \n",
       "4                                   56 1977-05-13   \n",
       "\n",
       "                              job_title job_industry_category  \\\n",
       "0                   Executive Secretary                Health   \n",
       "1                Administrative Officer    Financial Services   \n",
       "2                    Recruiting Manager              Property   \n",
       "3  Business Systems Development Analyst                    IT   \n",
       "4                         Senior Editor         Manufacturing   \n",
       "\n",
       "      wealth_segment deceased_indicator owns_car  tenure  \n",
       "0      Mass Customer                 No      Yes    11.0  \n",
       "1      Mass Customer                 No      Yes    16.0  \n",
       "2      Mass Customer                 No      Yes    15.0  \n",
       "3      Mass Customer                 No       No     7.0  \n",
       "4  Affluent Customer                 No      Yes     8.0  "
      ]
     },
     "execution_count": 120,
     "metadata": {},
     "output_type": "execute_result"
    }
   ],
   "source": [
    "df2.head()"
   ]
  },
  {
   "cell_type": "markdown",
   "id": "f8eee9e8",
   "metadata": {},
   "source": [
    "# `Customer Address Table`"
   ]
  },
  {
   "cell_type": "code",
   "execution_count": 112,
   "id": "f0618894",
   "metadata": {},
   "outputs": [
    {
     "data": {
      "text/html": [
       "<div>\n",
       "<style scoped>\n",
       "    .dataframe tbody tr th:only-of-type {\n",
       "        vertical-align: middle;\n",
       "    }\n",
       "\n",
       "    .dataframe tbody tr th {\n",
       "        vertical-align: top;\n",
       "    }\n",
       "\n",
       "    .dataframe thead th {\n",
       "        text-align: right;\n",
       "    }\n",
       "</style>\n",
       "<table border=\"1\" class=\"dataframe\">\n",
       "  <thead>\n",
       "    <tr style=\"text-align: right;\">\n",
       "      <th></th>\n",
       "      <th>customer_id</th>\n",
       "      <th>address</th>\n",
       "      <th>postcode</th>\n",
       "      <th>state</th>\n",
       "      <th>country</th>\n",
       "      <th>property_valuation</th>\n",
       "    </tr>\n",
       "  </thead>\n",
       "  <tbody>\n",
       "    <tr>\n",
       "      <th>0</th>\n",
       "      <td>1</td>\n",
       "      <td>060 Morning Avenue</td>\n",
       "      <td>2016</td>\n",
       "      <td>New South Wales</td>\n",
       "      <td>Australia</td>\n",
       "      <td>10</td>\n",
       "    </tr>\n",
       "    <tr>\n",
       "      <th>1</th>\n",
       "      <td>2</td>\n",
       "      <td>6 Meadow Vale Court</td>\n",
       "      <td>2153</td>\n",
       "      <td>New South Wales</td>\n",
       "      <td>Australia</td>\n",
       "      <td>10</td>\n",
       "    </tr>\n",
       "    <tr>\n",
       "      <th>2</th>\n",
       "      <td>4</td>\n",
       "      <td>0 Holy Cross Court</td>\n",
       "      <td>4211</td>\n",
       "      <td>QLD</td>\n",
       "      <td>Australia</td>\n",
       "      <td>9</td>\n",
       "    </tr>\n",
       "    <tr>\n",
       "      <th>3</th>\n",
       "      <td>5</td>\n",
       "      <td>17979 Del Mar Point</td>\n",
       "      <td>2448</td>\n",
       "      <td>New South Wales</td>\n",
       "      <td>Australia</td>\n",
       "      <td>4</td>\n",
       "    </tr>\n",
       "    <tr>\n",
       "      <th>4</th>\n",
       "      <td>6</td>\n",
       "      <td>9 Oakridge Court</td>\n",
       "      <td>3216</td>\n",
       "      <td>VIC</td>\n",
       "      <td>Australia</td>\n",
       "      <td>9</td>\n",
       "    </tr>\n",
       "  </tbody>\n",
       "</table>\n",
       "</div>"
      ],
      "text/plain": [
       "   customer_id              address  postcode            state    country  \\\n",
       "0            1   060 Morning Avenue      2016  New South Wales  Australia   \n",
       "1            2  6 Meadow Vale Court      2153  New South Wales  Australia   \n",
       "2            4   0 Holy Cross Court      4211              QLD  Australia   \n",
       "3            5  17979 Del Mar Point      2448  New South Wales  Australia   \n",
       "4            6     9 Oakridge Court      3216              VIC  Australia   \n",
       "\n",
       "   property_valuation  \n",
       "0                  10  \n",
       "1                  10  \n",
       "2                   9  \n",
       "3                   4  \n",
       "4                   9  "
      ]
     },
     "execution_count": 112,
     "metadata": {},
     "output_type": "execute_result"
    }
   ],
   "source": [
    "df_cusadd = pd.read_excel(file, 'CustomerAddress', header=1)\n",
    "df_cusadd.head()"
   ]
  },
  {
   "cell_type": "code",
   "execution_count": 113,
   "id": "ea27bdf5",
   "metadata": {},
   "outputs": [],
   "source": [
    "df3 = df_cusadd.copy()"
   ]
  },
  {
   "cell_type": "markdown",
   "id": "16325413",
   "metadata": {},
   "source": [
    "## Issue #1: consistency issue in state column New South Wales and Victoria should be replaced by NSW and VIC respectively"
   ]
  },
  {
   "cell_type": "code",
   "execution_count": 114,
   "id": "6416acb3",
   "metadata": {},
   "outputs": [
    {
     "data": {
      "text/plain": [
       "array(['New South Wales', 'QLD', 'VIC', 'NSW', 'Victoria'], dtype=object)"
      ]
     },
     "execution_count": 114,
     "metadata": {},
     "output_type": "execute_result"
    }
   ],
   "source": [
    "df3.state.unique()"
   ]
  },
  {
   "cell_type": "markdown",
   "id": "a3dfbffe",
   "metadata": {},
   "source": [
    "### Define:\n",
    "use `.replace` to update the values\n",
    "### Code:"
   ]
  },
  {
   "cell_type": "code",
   "execution_count": 115,
   "id": "202571fe",
   "metadata": {},
   "outputs": [],
   "source": [
    "df3.state = df3.state.replace('New South Wales', 'NSW')\n",
    "df3.state = df3.state.replace('Victoria', 'VIC')"
   ]
  },
  {
   "cell_type": "markdown",
   "id": "81c0f7f7",
   "metadata": {},
   "source": [
    "### Test"
   ]
  },
  {
   "cell_type": "code",
   "execution_count": 116,
   "id": "0038ad64",
   "metadata": {},
   "outputs": [
    {
     "data": {
      "text/plain": [
       "array(['NSW', 'QLD', 'VIC'], dtype=object)"
      ]
     },
     "execution_count": 116,
     "metadata": {},
     "output_type": "execute_result"
    }
   ],
   "source": [
    "df3.state.unique()"
   ]
  },
  {
   "cell_type": "markdown",
   "id": "aabffae8",
   "metadata": {},
   "source": [
    "## Issue #2: Counrty column is unique, it should be discarded"
   ]
  },
  {
   "cell_type": "code",
   "execution_count": 117,
   "id": "f12d1271",
   "metadata": {},
   "outputs": [
    {
     "data": {
      "text/plain": [
       "array(['Australia'], dtype=object)"
      ]
     },
     "execution_count": 117,
     "metadata": {},
     "output_type": "execute_result"
    }
   ],
   "source": [
    "df3.country.unique()"
   ]
  },
  {
   "cell_type": "markdown",
   "id": "7fbab646",
   "metadata": {},
   "source": [
    "### Define:\n",
    "drop country column\n",
    "### Code:"
   ]
  },
  {
   "cell_type": "code",
   "execution_count": 118,
   "id": "3f830a76",
   "metadata": {},
   "outputs": [],
   "source": [
    "df3.drop('country', axis=1, inplace=True)"
   ]
  },
  {
   "cell_type": "code",
   "execution_count": 121,
   "id": "4a614694",
   "metadata": {},
   "outputs": [
    {
     "data": {
      "text/html": [
       "<div>\n",
       "<style scoped>\n",
       "    .dataframe tbody tr th:only-of-type {\n",
       "        vertical-align: middle;\n",
       "    }\n",
       "\n",
       "    .dataframe tbody tr th {\n",
       "        vertical-align: top;\n",
       "    }\n",
       "\n",
       "    .dataframe thead th {\n",
       "        text-align: right;\n",
       "    }\n",
       "</style>\n",
       "<table border=\"1\" class=\"dataframe\">\n",
       "  <thead>\n",
       "    <tr style=\"text-align: right;\">\n",
       "      <th></th>\n",
       "      <th>customer_id</th>\n",
       "      <th>address</th>\n",
       "      <th>postcode</th>\n",
       "      <th>state</th>\n",
       "      <th>property_valuation</th>\n",
       "    </tr>\n",
       "  </thead>\n",
       "  <tbody>\n",
       "    <tr>\n",
       "      <th>0</th>\n",
       "      <td>1</td>\n",
       "      <td>060 Morning Avenue</td>\n",
       "      <td>2016</td>\n",
       "      <td>NSW</td>\n",
       "      <td>10</td>\n",
       "    </tr>\n",
       "    <tr>\n",
       "      <th>1</th>\n",
       "      <td>2</td>\n",
       "      <td>6 Meadow Vale Court</td>\n",
       "      <td>2153</td>\n",
       "      <td>NSW</td>\n",
       "      <td>10</td>\n",
       "    </tr>\n",
       "    <tr>\n",
       "      <th>2</th>\n",
       "      <td>4</td>\n",
       "      <td>0 Holy Cross Court</td>\n",
       "      <td>4211</td>\n",
       "      <td>QLD</td>\n",
       "      <td>9</td>\n",
       "    </tr>\n",
       "    <tr>\n",
       "      <th>3</th>\n",
       "      <td>5</td>\n",
       "      <td>17979 Del Mar Point</td>\n",
       "      <td>2448</td>\n",
       "      <td>NSW</td>\n",
       "      <td>4</td>\n",
       "    </tr>\n",
       "    <tr>\n",
       "      <th>4</th>\n",
       "      <td>6</td>\n",
       "      <td>9 Oakridge Court</td>\n",
       "      <td>3216</td>\n",
       "      <td>VIC</td>\n",
       "      <td>9</td>\n",
       "    </tr>\n",
       "  </tbody>\n",
       "</table>\n",
       "</div>"
      ],
      "text/plain": [
       "   customer_id              address  postcode state  property_valuation\n",
       "0            1   060 Morning Avenue      2016   NSW                  10\n",
       "1            2  6 Meadow Vale Court      2153   NSW                  10\n",
       "2            4   0 Holy Cross Court      4211   QLD                   9\n",
       "3            5  17979 Del Mar Point      2448   NSW                   4\n",
       "4            6     9 Oakridge Court      3216   VIC                   9"
      ]
     },
     "execution_count": 121,
     "metadata": {},
     "output_type": "execute_result"
    }
   ],
   "source": [
    "df3.head()"
   ]
  },
  {
   "cell_type": "markdown",
   "id": "eae26cde",
   "metadata": {},
   "source": [
    "## Save the files"
   ]
  },
  {
   "cell_type": "code",
   "execution_count": 122,
   "id": "880c9055",
   "metadata": {},
   "outputs": [],
   "source": [
    "df1.to_csv('Transaction.csv', index=False)\n",
    "df2.to_csv('customer_demographic.csv', index=False)\n",
    "df3.to_csv('customer_address.csv', index=False)"
   ]
  }
 ],
 "metadata": {
  "kernelspec": {
   "display_name": "Python 3 (ipykernel)",
   "language": "python",
   "name": "python3"
  },
  "language_info": {
   "codemirror_mode": {
    "name": "ipython",
    "version": 3
   },
   "file_extension": ".py",
   "mimetype": "text/x-python",
   "name": "python",
   "nbconvert_exporter": "python",
   "pygments_lexer": "ipython3",
   "version": "3.9.12"
  }
 },
 "nbformat": 4,
 "nbformat_minor": 5
}
